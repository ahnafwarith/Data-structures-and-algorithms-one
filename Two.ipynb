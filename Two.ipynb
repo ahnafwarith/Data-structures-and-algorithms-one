{
  "cells": [
    {
      "cell_type": "markdown",
      "metadata": {
        "id": "view-in-github",
        "colab_type": "text"
      },
      "source": [
        "<a href=\"https://colab.research.google.com/github/ahnafwarith/Data-structures-and-algorithms-one/blob/main/Two.ipynb\" target=\"_parent\"><img src=\"https://colab.research.google.com/assets/colab-badge.svg\" alt=\"Open In Colab\"/></a>"
      ]
    },
    {
      "cell_type": "markdown",
      "source": [
        "# Task 1\n",
        "Addition Checker"
      ],
      "metadata": {
        "id": "zx6YmvN5n1OD"
      }
    },
    {
      "cell_type": "code",
      "execution_count": null,
      "metadata": {
        "colab": {
          "background_save": true
        },
        "id": "Y-1uuvOL7J-t"
      },
      "outputs": [],
      "source": [
        "input_file = open('/content/input1.txt','r')\n",
        "output_file = open('/content/output1.txt', 'w')\n",
        "\n",
        "x = input_file.readline().split()\n",
        "arr = input_file.readline().split()\n",
        "arrM = []\n",
        "\n",
        "size = int(x[0])\n",
        "req = int(x[1])\n",
        "outputs = []\n",
        "\n",
        "\n",
        "for i in arr:\n",
        "  arrM.append(int(i))\n",
        "\n",
        "print(outputs)\n",
        "\n",
        "for i in range(size):\n",
        "  for j in range(size-1):\n",
        "    if arrM[i] + arrM[j] == req:\n",
        "      if i+1 not in outputs:\n",
        "        outputs.append(i+1)\n",
        "      if j+1 not in outputs:\n",
        "        outputs.append(j+1)\n",
        "\n",
        "if len(outputs) == 0:\n",
        "  print('IMPOSSIBLE', file = output_file)\n",
        "else:\n",
        "  for i in range(len(outputs)):\n",
        "    print(outputs[i], file = output_file)\n",
        "\n",
        "output_file.close()"
      ]
    },
    {
      "cell_type": "markdown",
      "source": [
        "# Task 2\n",
        "Two Pointer method"
      ],
      "metadata": {
        "id": "ZEgA4P_RydDY"
      }
    },
    {
      "cell_type": "code",
      "source": [
        "# O(n) solution\n",
        "\n",
        "N = [1,4,14,43]\n",
        "i = 0\n",
        "\n",
        "M = [2,5,12,64]\n",
        "j = 0\n",
        "\n",
        "new = []\n",
        "\n",
        "while i<len(N) or j<len(M):\n",
        "  if i == len(N):\n",
        "    while j != len(M):\n",
        "      new.append(M[j])\n",
        "      j += 1\n",
        "  elif j == len(M):\n",
        "    while i != len(N):\n",
        "      new.append(N[i])\n",
        "      i += 1\n",
        "\n",
        "  else:\n",
        "    if N[i] == M[j]:\n",
        "      new.append(N[i])\n",
        "      i += 1\n",
        "    elif N[i] < M[j]:\n",
        "      new.append(N[i])\n",
        "      i += 1\n",
        "    elif M[j] < N[i]:\n",
        "      new.append(M[j])\n",
        "      j += 1"
      ],
      "metadata": {
        "colab": {
          "base_uri": "https://localhost:8080/"
        },
        "id": "IsgWISnjycqG",
        "outputId": "da81fc51-7597-4a39-a5ae-c0298be11dec"
      },
      "execution_count": null,
      "outputs": [
        {
          "output_type": "stream",
          "name": "stdout",
          "text": [
            "[1, 2, 4, 5, 12, 14, 43, 64] 4 4 4 4\n"
          ]
        }
      ]
    },
    {
      "cell_type": "markdown",
      "source": [
        "# Task 3\n",
        "Mergesort algorithm"
      ],
      "metadata": {
        "id": "w5G54bvz-Kjs"
      }
    },
    {
      "cell_type": "code",
      "source": [
        "def merge(a, b):\n",
        "  new = []\n",
        "  i = 0 # a's pointer\n",
        "  j = 0 # b's pointer\n",
        "  while i<len(a) and j<len(b):\n",
        "    if a[i] == b[j]:\n",
        "      new.append(a[i])\n",
        "      i += 1\n",
        "    elif a[i] < b[j]:\n",
        "      new.append(a[i])\n",
        "      i += 1\n",
        "    else:\n",
        "      new.append(b[j])\n",
        "      j += 1\n",
        "  if i == len(a):\n",
        "    while j != len(b):\n",
        "      new.append(b[j])\n",
        "      j += 1\n",
        "  if j == len(b):\n",
        "    while i != len(a):\n",
        "      new.append(a[i])\n",
        "      i += 1\n",
        "  return new\n",
        "\n",
        "def mergeSort(arr):\n",
        "  if len(arr) <= 1:\n",
        "    return arr\n",
        "  else:\n",
        "    mid = len(arr)//2\n",
        "    a1 = mergeSort(arr[0:mid])\n",
        "    a2 = mergeSort(arr[mid:len(arr)])\n",
        "    return merge(a1, a2)"
      ],
      "metadata": {
        "colab": {
          "base_uri": "https://localhost:8080/"
        },
        "id": "SUqeYlkO-KAT",
        "outputId": "cfd0207e-343f-43d4-a29c-04c46c95328d"
      },
      "execution_count": null,
      "outputs": [
        {
          "output_type": "stream",
          "name": "stdout",
          "text": [
            "[1, 2, 3, 4, 4, 5]\n"
          ]
        }
      ]
    },
    {
      "cell_type": "markdown",
      "source": [
        "# Task 4\n",
        "Find max using divide and conquer"
      ],
      "metadata": {
        "id": "baJekQp4DWBl"
      }
    },
    {
      "cell_type": "code",
      "source": [
        "arr = [1,3,5,6,7]\n",
        "#Global max\n",
        "max = arr[0]\n",
        "\n",
        "def makeComparison(a,b):\n",
        "  i = 0 # pointer of a\n",
        "  j = 0 # pointer of b\n",
        "\n",
        "  while i < len(a) and j < len(b):\n",
        "    if a[i] == b[j]:\n",
        "      i += 1\n",
        "      if b[j] > max:\n",
        "        max = b[j]\n",
        "    elif a[i] < b[j]:\n",
        "      i += 1\n",
        "      if b[j] > max:\n",
        "        max = b[j]\n",
        "    elif b[j] < a[i]:\n",
        "      j += 1\n",
        "      if a[i] > max:\n",
        "        max = a[i]\n",
        "\n",
        "    # Check for rest elements in a or b\n",
        "\n",
        "    return a + b\n",
        "def findMax(arr):\n",
        "  mid = len(arr)//2\n",
        "  max = arr[0]\n",
        "  a = findMax(arr[0:mid])\n",
        "  b = findMax(arr[mid:len(arr)])\n",
        "  return makeComparison(a,b)\n",
        "  print(max)\n",
        "\n",
        "# Has a time complexity of nlogn"
      ],
      "metadata": {
        "id": "UwcSkaWtDaM7"
      },
      "execution_count": null,
      "outputs": []
    }
  ],
  "metadata": {
    "colab": {
      "provenance": [],
      "toc_visible": true,
      "authorship_tag": "ABX9TyPGYUGhZLZ5eBEmpHEuR6In",
      "include_colab_link": true
    },
    "kernelspec": {
      "display_name": "Python 3",
      "name": "python3"
    },
    "language_info": {
      "name": "python"
    }
  },
  "nbformat": 4,
  "nbformat_minor": 0
}