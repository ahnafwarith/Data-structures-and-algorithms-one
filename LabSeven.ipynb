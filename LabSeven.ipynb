{
  "nbformat": 4,
  "nbformat_minor": 0,
  "metadata": {
    "colab": {
      "provenance": [],
      "authorship_tag": "ABX9TyOUE3c8XZ60Tb5pEQvjmLOP",
      "include_colab_link": true
    },
    "kernelspec": {
      "name": "python3",
      "display_name": "Python 3"
    },
    "language_info": {
      "name": "python"
    }
  },
  "cells": [
    {
      "cell_type": "markdown",
      "metadata": {
        "id": "view-in-github",
        "colab_type": "text"
      },
      "source": [
        "<a href=\"https://colab.research.google.com/github/ahnafwarith/Data-structures-and-algorithms-one/blob/main/LabSeven.ipynb\" target=\"_parent\"><img src=\"https://colab.research.google.com/assets/colab-badge.svg\" alt=\"Open In Colab\"/></a>"
      ]
    },
    {
      "cell_type": "markdown",
      "source": [
        "# Task 1"
      ],
      "metadata": {
        "id": "YVTrYogEnFas"
      }
    },
    {
      "cell_type": "code",
      "source": [
        "# Incomplete code\n",
        "class KeyIndex:\n",
        "  def __init__(self,a):\n",
        "    max = a[0]\n",
        "    min = 0\n",
        "\n",
        "    for i in range(len(a)):\n",
        "      if max < a[i]:\n",
        "        max = a[i]\n",
        "\n",
        "    for i in range(len(a)):\n",
        "      if i < min:\n",
        "        min = i\n",
        "    \n",
        "    self.k = [0]*(max-min+1)\n",
        "    for i in a:\n",
        "      self.k[i] += 1\n",
        "\n",
        "  def search(self,elm):\n",
        "    if self.k[elm] != 0:\n",
        "      return True\n",
        "    else:\n",
        "      return False\n",
        "\n",
        "a = KeyIndex([1,2,3,4,5,8])\n",
        "a.search(2)"
      ],
      "metadata": {
        "colab": {
          "base_uri": "https://localhost:8080/"
        },
        "id": "fTqeIywLi-Yg",
        "outputId": "28ba887c-93d2-4e3d-9e2b-12c2c0312539"
      },
      "execution_count": null,
      "outputs": [
        {
          "output_type": "execute_result",
          "data": {
            "text/plain": [
              "True"
            ]
          },
          "metadata": {},
          "execution_count": 33
        }
      ]
    },
    {
      "cell_type": "markdown",
      "source": [
        "# Task 2"
      ],
      "metadata": {
        "id": "3cLpzWS3nJT9"
      }
    },
    {
      "cell_type": "code",
      "source": [
        "# Just call hash function with the array with strings\n",
        "\n",
        "def hash(a):\n",
        "  k = [0]*9\n",
        "  for i in a:\n",
        "    new = hasherV(i)\n",
        "    if k[new] == 0:\n",
        "      k[new] = i\n",
        "    else:\n",
        "      idx = lP(k,new,0)\n",
        "      if idx == 'array is full': \n",
        "        print(f\"Hashing not possible, {idx}\")\n",
        "        return\n",
        "      else: k[idx] = i\n",
        "  return k\n",
        "\n",
        "def lP(a,i,c):\n",
        "  if a[i] == 0:\n",
        "    return i\n",
        "  else:\n",
        "    if c>9:\n",
        "      return 'array is full'\n",
        "    else:\n",
        "      return lP(a,(i+1)%9,c+1)\n",
        "\n",
        "def hasherV(value):\n",
        "  consonants = 0\n",
        "  sumOfDigits = 0\n",
        "  for i in value:\n",
        "    if i in ['1','2','3','4','5','6','7','8','9','0']:\n",
        "      sumOfDigits+=int(i)\n",
        "    elif i not in ['A','E','I','O','U']:\n",
        "        consonants += 1\n",
        "  return (consonants*24 + sumOfDigits)%9"
      ],
      "metadata": {
        "colab": {
          "base_uri": "https://localhost:8080/"
        },
        "id": "Rm5aPV4gnNGS",
        "outputId": "c6ce4af9-4313-4540-e205-c4b1be817516"
      },
      "execution_count": 39,
      "outputs": [
        {
          "output_type": "execute_result",
          "data": {
            "text/plain": [
              "['O',\n",
              " 'ST1E89B8E32',\n",
              " 'ST1E89B8E32',\n",
              " 'ST1E89B8E32',\n",
              " 'ST1E89B8A32',\n",
              " 'ST1E89B8E32',\n",
              " 'ST1E89B8E32',\n",
              " 'ST1E89B8E32',\n",
              " 'ST1E89B8E32']"
            ]
          },
          "metadata": {},
          "execution_count": 39
        }
      ]
    }
  ]
}