{
  "nbformat": 4,
  "nbformat_minor": 0,
  "metadata": {
    "colab": {
      "provenance": [],
      "authorship_tag": "ABX9TyMzdvx6pOP5PmagqGzeaHto",
      "include_colab_link": true
    },
    "kernelspec": {
      "name": "python3",
      "display_name": "Python 3"
    },
    "language_info": {
      "name": "python"
    }
  },
  "cells": [
    {
      "cell_type": "markdown",
      "metadata": {
        "id": "view-in-github",
        "colab_type": "text"
      },
      "source": [
        "<a href=\"https://colab.research.google.com/github/ahnafwarith/Data-structures-and-algorithms-one/blob/main/labOne(II).ipynb\" target=\"_parent\"><img src=\"https://colab.research.google.com/assets/colab-badge.svg\" alt=\"Open In Colab\"/></a>"
      ]
    },
    {
      "cell_type": "code",
      "execution_count": null,
      "metadata": {
        "colab": {
          "base_uri": "https://localhost:8080/"
        },
        "id": "F_1JES0_cHaj",
        "outputId": "4c68fb18-8b7a-4a55-8531-5e1bba5f89f4"
      },
      "outputs": [
        {
          "output_type": "execute_result",
          "data": {
            "text/plain": [
              "10.181818181818182"
            ]
          },
          "metadata": {},
          "execution_count": 7
        }
      ],
      "source": [
        "# Find mean in array\n",
        "def mean(source):\n",
        "  count = 0\n",
        "  sum = 0\n",
        "  for i in source:\n",
        "    sum += i\n",
        "    count += 1\n",
        "  return sum/count\n",
        "mean([10, 8, 13, 9, 14, 25, -5, 20, 7, 7, 4])"
      ]
    },
    {
      "cell_type": "code",
      "source": [
        "# Find standard deviation in array\n",
        "def standardDeviation(source):\n",
        "  m = mean(source)\n",
        "  sum = 0\n",
        "  count = 0\n",
        "  for i in source:\n",
        "    sum += (i-m)**2\n",
        "    count += 1\n",
        "  stD = ((1/(count-1))*(sum))**(0.5)\n",
        "  return stD\n",
        "print(standardDeviation([10, 8, 13, 9, 14, 25, -5, 20, 7, 7, 4]))"
      ],
      "metadata": {
        "colab": {
          "base_uri": "https://localhost:8080/"
        },
        "id": "xf9YO6NDfG3L",
        "outputId": "7b5a4594-e8cb-4aa7-92a4-53c011c19f8d"
      },
      "execution_count": null,
      "outputs": [
        {
          "output_type": "stream",
          "name": "stdout",
          "text": [
            "7.960127911260997\n"
          ]
        }
      ]
    },
    {
      "cell_type": "code",
      "source": [
        "# Create new array with elements not in 1.5 standard deviations away\n",
        "def newArray(source):\n",
        "  mn = mean(source)\n",
        "  stD = standardDeviation(source)\n",
        "  lowerLimit = (stD*1.5) - mn\n",
        "  upperLimit = (stD*1.5) + mn\n",
        "  count = 0\n",
        "  aR = [0]*100\n",
        "  for i in range(len(source)):\n",
        "    if not (lowerLimit<source[i]<upperLimit):\n",
        "      aR[i] = source[i]\n",
        "      count += 1\n",
        "  newArr = [0]*count\n",
        "  count=0\n",
        "  for i in range(len(source)):\n",
        "    if not (lowerLimit<source[i]<upperLimit):\n",
        "      newArr[count] = source[i]\n",
        "      count+=1\n",
        "  return newArr\n",
        "newArray([10, 8, 13, 9, 14, 25, -5, 20, 7, 7, 4])"
      ],
      "metadata": {
        "colab": {
          "base_uri": "https://localhost:8080/"
        },
        "id": "6goIODfXg0hu",
        "outputId": "7ac294ef-2f6c-499a-b616-bc7828929c4b"
      },
      "execution_count": null,
      "outputs": [
        {
          "output_type": "stream",
          "name": "stdout",
          "text": [
            "[0, 0, 0, 0, 0, 25, -5, 0, 0, 0, 0, 0, 0, 0, 0, 0, 0, 0, 0, 0, 0, 0, 0, 0, 0, 0, 0, 0, 0, 0, 0, 0, 0, 0, 0, 0, 0, 0, 0, 0, 0, 0, 0, 0, 0, 0, 0, 0, 0, 0, 0, 0, 0, 0, 0, 0, 0, 0, 0, 0, 0, 0, 0, 0, 0, 0, 0, 0, 0, 0, 0, 0, 0, 0, 0, 0, 0, 0, 0, 0, 0, 0, 0, 0, 0, 0, 0, 0, 0, 0, 0, 0, 0, 0, 0, 0, 0, 0, 0, 0]\n"
          ]
        },
        {
          "output_type": "execute_result",
          "data": {
            "text/plain": [
              "[25, -5]"
            ]
          },
          "metadata": {},
          "execution_count": 32
        }
      ]
    },
    {
      "cell_type": "markdown",
      "source": [],
      "metadata": {
        "id": "n45Cl3pug0Yt"
      }
    }
  ]
}