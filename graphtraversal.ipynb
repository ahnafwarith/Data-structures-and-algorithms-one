{
  "nbformat": 4,
  "nbformat_minor": 0,
  "metadata": {
    "colab": {
      "provenance": [],
      "authorship_tag": "ABX9TyMAj4mby6VWqtt4QXpGJlas",
      "include_colab_link": true
    },
    "kernelspec": {
      "name": "python3",
      "display_name": "Python 3"
    },
    "language_info": {
      "name": "python"
    }
  },
  "cells": [
    {
      "cell_type": "markdown",
      "metadata": {
        "id": "view-in-github",
        "colab_type": "text"
      },
      "source": [
        "<a href=\"https://colab.research.google.com/github/ahnafwarith/Data-structures-and-algorithms-one/blob/main/graphtraversal.ipynb\" target=\"_parent\"><img src=\"https://colab.research.google.com/assets/colab-badge.svg\" alt=\"Open In Colab\"/></a>"
      ]
    },
    {
      "cell_type": "markdown",
      "source": [
        "Breadth First Search"
      ],
      "metadata": {
        "id": "gZrOqkwJjuAC"
      }
    },
    {
      "cell_type": "code",
      "execution_count": 25,
      "metadata": {
        "colab": {
          "base_uri": "https://localhost:8080/"
        },
        "id": "fvU8mKH5tNiE",
        "outputId": "f894b6f3-7d6f-467f-8bea-3933c22d0cba"
      },
      "outputs": [
        {
          "output_type": "stream",
          "name": "stdout",
          "text": [
            "1 3 4 7 2 6 5 "
          ]
        }
      ],
      "source": [
        "inp = open('/content/input1.txt','r')\n",
        "out = open('/content/output1.txt','w')\n",
        "\n",
        "''' Unidirectional graph generation '''\n",
        "v , e = list(map(int, inp.readline().split()))\n",
        "graph = {}\n",
        "for i in range(v+1): graph[i] = {}\n",
        "for i in range(e):\n",
        "  u , v , w = list(map(int, inp.readline().split()))\n",
        "  graph[u][v] = w\n",
        "\n",
        "''' Breadth-First Search '''\n",
        "def bfs(graph,start):\n",
        "  for u in graph.keys():\n",
        "    graph[u]['color'] = 0\n",
        "  q = []\n",
        "  graph[start]['color'] = 1\n",
        "  q.append(start)\n",
        "  while q:\n",
        "    u = q.pop(0)\n",
        "    print(u, end=\" \")\n",
        "    for v in graph[u]:\n",
        "      if v != 'color':\n",
        "        if graph[v]['color'] == 0:\n",
        "          q.append(v)\n",
        "          graph[v]['color'] = 1\n",
        "bfs(graph,1)"
      ]
    },
    {
      "cell_type": "markdown",
      "source": [
        "Depth First Search"
      ],
      "metadata": {
        "id": "3NxKqG8HjqTY"
      }
    },
    {
      "cell_type": "code",
      "source": [
        "inp = open('/content/input2.txt','r')\n",
        "out = open('/content/output2.txt','w')\n",
        "\n",
        "''' Generation of birectional graph '''\n",
        "v , e = list(map(int,inp.readline().split()))\n",
        "graph = {}\n",
        "for i in range(v+1):\n",
        "  graph[i] = {}\n",
        "for i in range(e):\n",
        "  u , v = list(map(int,inp.readline().split()))\n",
        "  if v not in graph[u]:\n",
        "    graph[u][v] = 1\n",
        "  if u not in graph[v]:\n",
        "    graph[v][u] = 1\n",
        "\n",
        "''' Depth-First Search '''\n",
        "print(graph)\n",
        "start = 1\n",
        "visited = [start]\n",
        "def dfs(graph,u):\n",
        "  print(u, end=' ')\n",
        "  global visited\n",
        "  for v in graph[u]:\n",
        "    if v not in visited:\n",
        "      visited.append(v)\n",
        "      dfs(graph,v)\n",
        "dfs(graph,start)"
      ],
      "metadata": {
        "colab": {
          "base_uri": "https://localhost:8080/"
        },
        "id": "VTYx0pV6xjox",
        "outputId": "b9cf6120-e442-4680-dce3-877fc0031cff"
      },
      "execution_count": 47,
      "outputs": [
        {
          "output_type": "stream",
          "name": "stdout",
          "text": [
            "{0: {}, 1: {2: 1, 3: 1, 8: 1, 10: 1}, 2: {1: 1, 5: 1}, 3: {1: 1, 9: 1, 7: 1}, 4: {10: 1, 6: 1, 7: 1, 8: 1}, 5: {2: 1}, 6: {4: 1, 8: 1}, 7: {4: 1, 3: 1}, 8: {6: 1, 1: 1, 4: 1}, 9: {3: 1, 11: 1}, 10: {4: 1, 1: 1, 11: 1}, 11: {9: 1, 10: 1}}\n",
            "1 2 5 3 9 11 10 4 6 8 7 "
          ]
        }
      ]
    },
    {
      "cell_type": "markdown",
      "source": [
        "Cycle Detection"
      ],
      "metadata": {
        "id": "72xO5SVgjnIk"
      }
    },
    {
      "cell_type": "code",
      "source": [
        "inp = open('/content/input3.txt','r')\n",
        "out = open('/content/output3.txt','w')\n",
        "\n",
        "print(inp.readline())"
      ],
      "metadata": {
        "colab": {
          "base_uri": "https://localhost:8080/"
        },
        "id": "aheE42o9jF2Q",
        "outputId": "8cfffeeb-1968-4d76-9a20-edcef54982fd"
      },
      "execution_count": 48,
      "outputs": [
        {
          "output_type": "stream",
          "name": "stdout",
          "text": [
            "\n"
          ]
        }
      ]
    }
  ]
}