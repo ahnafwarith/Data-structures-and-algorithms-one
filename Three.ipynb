{
  "nbformat": 4,
  "nbformat_minor": 0,
  "metadata": {
    "colab": {
      "provenance": [],
      "authorship_tag": "ABX9TyP5nD8VQ2RTlVzCy4ei95ux",
      "include_colab_link": true
    },
    "kernelspec": {
      "name": "python3",
      "display_name": "Python 3"
    },
    "language_info": {
      "name": "python"
    }
  },
  "cells": [
    {
      "cell_type": "markdown",
      "metadata": {
        "id": "view-in-github",
        "colab_type": "text"
      },
      "source": [
        "<a href=\"https://colab.research.google.com/github/ahnafwarith/Data-structures-and-algorithms-one/blob/main/Three.ipynb\" target=\"_parent\"><img src=\"https://colab.research.google.com/assets/colab-badge.svg\" alt=\"Open In Colab\"/></a>"
      ]
    },
    {
      "cell_type": "markdown",
      "source": [
        "# Task 1"
      ],
      "metadata": {
        "id": "kc3SCMTJbCrO"
      }
    },
    {
      "cell_type": "code",
      "execution_count": null,
      "metadata": {
        "colab": {
          "base_uri": "https://localhost:8080/"
        },
        "id": "VfoXgzQNTMgi",
        "outputId": "b2bf08a0-62c7-4c9e-bf78-f8a805e67aff"
      },
      "outputs": [
        {
          "output_type": "stream",
          "name": "stdout",
          "text": [
            "0\n",
            "11\n"
          ]
        }
      ],
      "source": [
        "# Global count for inversion count\n",
        "count = 0\n",
        "\n",
        "def countInversionAtLevel(a,b):\n",
        "  i = 0 # pointer for a\n",
        "  j = 0 # pointer for b\n",
        "  new = []\n",
        "  global count\n",
        "\n",
        "  while i < len(a) and j < len(b):\n",
        "    if a[i] < b[j]:\n",
        "      new.append(a[i])\n",
        "      i = i + 1\n",
        "\n",
        "    elif b[j] < a[i]:\n",
        "      new.append(b[j])\n",
        "      j = j + 1\n",
        "      count = count + (len(a) - i)\n",
        "\n",
        "  if i == len(a):\n",
        "    while j != len(b):\n",
        "      new.append(b[j])\n",
        "      j += 1\n",
        "\n",
        "  if j == len(b):\n",
        "    while i != len(a):\n",
        "      new.append(a[i])\n",
        "      i += 1\n",
        "\n",
        "  return new\n",
        "\n",
        "def findInversion(arr):\n",
        "  if len(arr) <= 1:\n",
        "    return arr\n",
        "  else:\n",
        "    mid = len(arr) // 2\n",
        "    a = findInversion(arr[0:mid])\n",
        "    b = findInversion(arr[mid:len(arr)])\n",
        "    return countInversionAtLevel(a,b)\n",
        "\n",
        "findInversion([1,2,3,4,5])\n",
        "print(count)\n",
        "a = findInversion([2,7,4,1,5,6,8,3])\n",
        "print(count)"
      ]
    },
    {
      "cell_type": "markdown",
      "source": [
        "# Task 2"
      ],
      "metadata": {
        "id": "NNRoqN8SbKcW"
      }
    },
    {
      "cell_type": "code",
      "source": [
        "# O(n)\n",
        "\n",
        "arr = [9, 6, 5, 8, 2]\n",
        "\n",
        "max = arr[0]\n",
        "j = 0\n",
        "m = 0\n",
        "\n",
        "for i in range(len(arr)):\n",
        "  if i != 0:\n",
        "    if (arr[i])**2 > max**2:\n",
        "      max = arr[i]\n",
        "      j = i\n",
        "\n",
        "print(j)\n",
        "for x in range(len(arr[0:j:])):\n",
        "  print(m,'*')\n",
        "  if max + arr[x] > m:\n",
        "    m = max + arr[x]\n",
        "\n",
        "print(m)"
      ],
      "metadata": {
        "colab": {
          "base_uri": "https://localhost:8080/"
        },
        "id": "bwAagaNFYpoH",
        "outputId": "e6a79b51-50be-4038-95ce-f7d9aec0d45d"
      },
      "execution_count": null,
      "outputs": [
        {
          "output_type": "stream",
          "name": "stdout",
          "text": [
            "0\n",
            "0\n"
          ]
        }
      ]
    }
  ]
}