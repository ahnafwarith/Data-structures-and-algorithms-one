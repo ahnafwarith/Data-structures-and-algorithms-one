{
  "nbformat": 4,
  "nbformat_minor": 0,
  "metadata": {
    "colab": {
      "provenance": [],
      "authorship_tag": "ABX9TyON8gZN5LrbZYZ1z9477AFF",
      "include_colab_link": true
    },
    "kernelspec": {
      "name": "python3",
      "display_name": "Python 3"
    },
    "language_info": {
      "name": "python"
    }
  },
  "cells": [
    {
      "cell_type": "markdown",
      "metadata": {
        "id": "view-in-github",
        "colab_type": "text"
      },
      "source": [
        "<a href=\"https://colab.research.google.com/github/ahnafwarith/Data-structures-and-algorithms-one/blob/main/Three.ipynb\" target=\"_parent\"><img src=\"https://colab.research.google.com/assets/colab-badge.svg\" alt=\"Open In Colab\"/></a>"
      ]
    },
    {
      "cell_type": "markdown",
      "source": [
        "# Task 1"
      ],
      "metadata": {
        "id": "kc3SCMTJbCrO"
      }
    },
    {
      "cell_type": "code",
      "execution_count": null,
      "metadata": {
        "colab": {
          "base_uri": "https://localhost:8080/"
        },
        "id": "VfoXgzQNTMgi",
        "outputId": "b2bf08a0-62c7-4c9e-bf78-f8a805e67aff"
      },
      "outputs": [
        {
          "output_type": "stream",
          "name": "stdout",
          "text": [
            "0\n",
            "11\n"
          ]
        }
      ],
      "source": [
        "# Global count for inversion count\n",
        "count = 0\n",
        "\n",
        "def countInversionAtLevel(a,b):\n",
        "  i = 0 # pointer for a\n",
        "  j = 0 # pointer for b\n",
        "  new = []\n",
        "  global count\n",
        "\n",
        "  while i < len(a) and j < len(b):\n",
        "    if a[i] < b[j]:\n",
        "      new.append(a[i])\n",
        "      i = i + 1\n",
        "\n",
        "    elif b[j] < a[i]:\n",
        "      new.append(b[j])\n",
        "      j = j + 1\n",
        "      count = count + (len(a) - i)\n",
        "\n",
        "  if i == len(a):\n",
        "    while j != len(b):\n",
        "      new.append(b[j])\n",
        "      j += 1\n",
        "\n",
        "  if j == len(b):\n",
        "    while i != len(a):\n",
        "      new.append(a[i])\n",
        "      i += 1\n",
        "\n",
        "  return new\n",
        "\n",
        "def findInversion(arr):\n",
        "  if len(arr) <= 1:\n",
        "    return arr\n",
        "  else:\n",
        "    mid = len(arr) // 2\n",
        "    a = findInversion(arr[0:mid])\n",
        "    b = findInversion(arr[mid:len(arr)])\n",
        "    return countInversionAtLevel(a,b)\n",
        "\n",
        "findInversion([1,2,3,4,5])\n",
        "print(count)\n",
        "a = findInversion([2,7,4,1,5,6,8,3])\n",
        "print(count)"
      ]
    },
    {
      "cell_type": "markdown",
      "source": [
        "# Task 2"
      ],
      "metadata": {
        "id": "NNRoqN8SbKcW"
      }
    },
    {
      "cell_type": "code",
      "source": [
        "# O(n)\n",
        "\n",
        "arr = [9, 6, 5, 8, 2]\n",
        "\n",
        "max = arr[0]\n",
        "j = 0\n",
        "m = 0\n",
        "\n",
        "for i in range(len(arr)):\n",
        "  if i != 0:\n",
        "    if (arr[i])**2 > max**2:\n",
        "      max = arr[i]\n",
        "      j = i\n",
        "\n",
        "print(j)\n",
        "for x in range(len(arr[0:j:])):\n",
        "  print(m,'*')\n",
        "  if max + arr[x] > m:\n",
        "    m = max + arr[x]\n",
        "\n",
        "print(m)"
      ],
      "metadata": {
        "colab": {
          "base_uri": "https://localhost:8080/"
        },
        "id": "bwAagaNFYpoH",
        "outputId": "3d219e0d-2e40-4559-e50d-3b771ff35ed7"
      },
      "execution_count": null,
      "outputs": [
        {
          "output_type": "stream",
          "name": "stdout",
          "text": [
            "0\n",
            "0\n"
          ]
        }
      ]
    },
    {
      "cell_type": "markdown",
      "source": [
        "# Task 3"
      ],
      "metadata": {
        "id": "T0VQBmAyRxNa"
      }
    },
    {
      "cell_type": "code",
      "source": [
        "# inp = open('/content/input3.txt','r')\n",
        "# out = open('/content/input3.txt','w')\n",
        "# size = int(inp.readline())\n",
        "# arr = list(map(int, inp.readline().split()))\n",
        "\n",
        "def partition(arr, low, high):\n",
        "  # In linear time puts pivot in right position\n",
        "  # with smaller elements in left side and\n",
        "  # greater elements in right side\n",
        "\n",
        "  pivot = arr[high]\n",
        "  i = low - 1\n",
        "  for j in range(low,high):\n",
        "    if arr[j] <= pivot:\n",
        "      i += 1\n",
        "      (arr[i], arr[j]) = (arr[j], arr[i])\n",
        "  arr[i+1], arr[high] = arr[high], arr[i+1]\n",
        "  return i+1\n",
        "\n",
        "def quick_sort(arr, low, high):\n",
        "  if low < high:\n",
        "    n = partition(arr, low, high)\n",
        "    quick_sort(arr, low, n-1)\n",
        "    quick_sort(arr, n+1, high)\n",
        "\n",
        "\n",
        "a = [9, 5, 4, 6, 1, 3, 2, 9]\n",
        "quick_sort(a, 0 , len(a)-1)\n",
        "print(a)"
      ],
      "metadata": {
        "colab": {
          "base_uri": "https://localhost:8080/"
        },
        "id": "rGPWTKOkRwyy",
        "outputId": "4f66c78b-3d74-4d5b-c40d-dc7f4c38aec1"
      },
      "execution_count": 9,
      "outputs": [
        {
          "output_type": "stream",
          "name": "stdout",
          "text": [
            "[1, 2, 3, 4, 5, 6, 9, 9]\n"
          ]
        }
      ]
    },
    {
      "cell_type": "markdown",
      "source": [
        "# Task 4"
      ],
      "metadata": {
        "id": "Yi6KASg4N4H6"
      }
    },
    {
      "cell_type": "code",
      "source": [
        "def partition(arr,low,high):\n",
        "  pivot = arr[high]\n",
        "  i = low - 1\n",
        "  j = low\n",
        "  while j < high:\n",
        "    if arr[j] <= pivot:\n",
        "      i = i + 1\n",
        "      arr[j] , arr[i] = arr[i] , arr[j]\n",
        "    j = j + 1\n",
        "  arr[i+1] , arr[high] = arr[high] , arr[i+1]\n",
        "  return i + 1\n",
        "\n",
        "def find_kth_smallest(arr,queries):\n",
        "  answers = []\n",
        "  for query in queries:\n",
        "    l = 0\n",
        "    h = len(arr) - 1\n",
        "    while l<h:\n",
        "      pivot_index = partition(arr,l,h)\n",
        "      if pivot_index + 1 == query:\n",
        "        answers.append(arr[pivot_index])\n",
        "        break\n",
        "      elif pivot_index + 1 < query:\n",
        "        l = pivot_index + 1\n",
        "      else:\n",
        "        h = pivot_index - 1\n",
        "  return answers\n",
        "\n",
        "a = [1,2,4,1,7,10,6]\n",
        "q = [3,6]\n",
        "x = find_kth_smallest(a,q)\n",
        "print(x)"
      ],
      "metadata": {
        "id": "kzK-_VH8Q9Li",
        "colab": {
          "base_uri": "https://localhost:8080/"
        },
        "outputId": "7c7e150f-37f4-4524-80fd-2e2858530361"
      },
      "execution_count": 6,
      "outputs": [
        {
          "output_type": "stream",
          "name": "stdout",
          "text": [
            "[2, 7]\n"
          ]
        }
      ]
    }
  ]
}