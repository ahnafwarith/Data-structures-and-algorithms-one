{
  "nbformat": 4,
  "nbformat_minor": 0,
  "metadata": {
    "colab": {
      "provenance": [],
      "authorship_tag": "ABX9TyM2AlV1voUU9kYFrHB+gH/3",
      "include_colab_link": true
    },
    "kernelspec": {
      "name": "python3",
      "display_name": "Python 3"
    },
    "language_info": {
      "name": "python"
    }
  },
  "cells": [
    {
      "cell_type": "markdown",
      "metadata": {
        "id": "view-in-github",
        "colab_type": "text"
      },
      "source": [
        "<a href=\"https://colab.research.google.com/github/ahnafwarith/Data-structures-and-algorithms-one/blob/main/One.ipynb\" target=\"_parent\"><img src=\"https://colab.research.google.com/assets/colab-badge.svg\" alt=\"Open In Colab\"/></a>"
      ]
    },
    {
      "cell_type": "markdown",
      "source": [
        "#Task 1"
      ],
      "metadata": {
        "id": "eQEAVLqYJdwC"
      }
    },
    {
      "cell_type": "code",
      "source": [
        "# a\n",
        "\n",
        "inp = open('/content/input1a.txt', 'r')\n",
        "output = open('/content/output1a.txt', 'w')\n",
        "\n",
        "for tc in range(int(inp.readline())):\n",
        "  val = int(inp.readline())\n",
        "  if val % 2 == 0:\n",
        "    print(f'{val} is an Even number.', file = output)\n",
        "  else:\n",
        "    print(f'{val} is an Odd number.', file = output)\n",
        "\n",
        "output.close()"
      ],
      "metadata": {
        "id": "uLm42_h__18I"
      },
      "execution_count": null,
      "outputs": []
    },
    {
      "cell_type": "code",
      "source": [
        "# b\n",
        "\n",
        "input_file = open('/content/input1b.txt','r')\n",
        "output_file = open('/content/output1b.txt', 'w')\n",
        "\n",
        "return_list = []\n",
        "no_inp = int(input_file.readline())\n",
        "\n",
        "for i in range(no_inp):\n",
        "  line = input_file.readline()\n",
        "  x = int(line.split()[1])\n",
        "  y = int(line.split()[3])\n",
        "\n",
        "  if '+' in line:\n",
        "    print(f\"The result of {x} + {y} is {x + y}\", file = output_file)\n",
        "  elif '-' in line:\n",
        "    print(f\"The result of {x} - {y} is {x - y}\", file = output_file)\n",
        "  elif '*' in line:\n",
        "    print(f\"The result of {x} * {y} is {x * y}\", file = output_file)\n",
        "  else:\n",
        "    print(f\"The result of {x} / {y} is {x / y}\", file = output_file)\n",
        "\n",
        "output_file.close()"
      ],
      "metadata": {
        "id": "2p5sNMysLuqQ"
      },
      "execution_count": null,
      "outputs": []
    },
    {
      "cell_type": "markdown",
      "source": [
        "#Task 2"
      ],
      "metadata": {
        "id": "Dm21HIUzJjcP"
      }
    },
    {
      "cell_type": "code",
      "source": [
        "input_file = open('/content/input2.txt','r')\n",
        "output_file = open('/content/output2.txt','w')\n",
        "\n",
        "no_inp = int(input_file.readline())\n",
        "arr = input_file.readline().split()\n",
        "arrI = []\n",
        "for i in arr: arrI.append(int(i))\n",
        "print(arrI)\n",
        "\n",
        "def bubbleSort(arr):\n",
        "    status = True\n",
        "    # best case (sorted) ---- O(n)\n",
        "    # If array is sorted the algorithm won't do the bubble sort with O(n^2)\n",
        "    # complexity, instead run the function in a linear runtime --> O(n)\n",
        "    for i in range(len(arr)-1):\n",
        "      if arr[i] > arr[i+1]:\n",
        "        status = False\n",
        "\n",
        "    # other cases (have to sort) ---- O(n**2)\n",
        "    if status == False:\n",
        "      print(\"n**2\")\n",
        "      for i in range(len(arr)-1):\n",
        "        for j in range(len(arr)-i-1):\n",
        "            if arr[j] > arr[j+1]:\n",
        "                arr[j], arr[j+1] = arr[j+1], arr[j]\n",
        "\n",
        "bubbleSort(arrI)\n",
        "print(arrI)\n",
        "output_file.close()"
      ],
      "metadata": {
        "colab": {
          "base_uri": "https://localhost:8080/"
        },
        "id": "pMX70vdsIctY",
        "outputId": "e490ddfc-dcf6-48fd-f94f-da43a5a8ab26"
      },
      "execution_count": null,
      "outputs": [
        {
          "output_type": "stream",
          "name": "stdout",
          "text": [
            "[5, 10, 15, 20, 25, 30]\n",
            "[5, 10, 15, 20, 25, 30]\n"
          ]
        }
      ]
    },
    {
      "cell_type": "markdown",
      "source": [
        "#Task 3"
      ],
      "metadata": {
        "id": "vS4v1bgPJl1_"
      }
    },
    {
      "cell_type": "code",
      "source": [
        "input_file = open('/content/input3.txt','r')\n",
        "output_file = open('/content/output3.txt','w')\n",
        "\n",
        "students_no = int(input_file.readline())\n",
        "\n",
        "student_id = input_file.readline().split()\n",
        "student_marks = input_file.readline().split()\n",
        "student_idmarks = []\n",
        "\n",
        "for i in range(students_no):\n",
        "  student_idmarks.append([int(student_id[i]), int(student_marks[i])])\n",
        "\n",
        "array = student_idmarks\n",
        "size = len(student_idmarks)\n",
        "\n",
        "# Using selection sort for minimum number of swaps\n",
        "for step in range(size):\n",
        "  min_idx = step\n",
        "\n",
        "  for i in range(step + 1, size):\n",
        "      if array[i][1] > array[min_idx][1]:\n",
        "          min_idx = i\n",
        "  array[step], array[min_idx] = array[min_idx], array[step]\n",
        "\n",
        "for x in range(size):\n",
        "  for i in range(len(student_idmarks)-1):\n",
        "    if student_idmarks[i][1] == student_idmarks[i+1][1]:\n",
        "      if student_idmarks[i][0] > student_idmarks[i+1][0]:\n",
        "        student_idmarks[i] , student_idmarks[i+1] = student_idmarks[i+1] , student_idmarks[i]\n",
        "\n",
        "for arr in student_idmarks:\n",
        "  print(f'ID: {arr[0]} Mark: {arr[1]}', file = output_file)\n",
        "\n",
        "output_file.close()"
      ],
      "metadata": {
        "id": "fJH2OxchJnQX"
      },
      "execution_count": null,
      "outputs": []
    },
    {
      "cell_type": "markdown",
      "source": [
        "#Task 4"
      ],
      "metadata": {
        "id": "s5dasMFlJnnn"
      }
    },
    {
      "cell_type": "code",
      "source": [
        "input_file = open('/content/input4.txt','r')\n",
        "output_file = open('/content/output4.txt','w')\n",
        "\n",
        "trains_no = int(input_file.readline())\n",
        "\n",
        "trains = []\n",
        "for i in range(trains_no):\n",
        "  x = input_file.readline().split()\n",
        "  trains.append(x)\n",
        "\n",
        "for i in range(trains_no):\n",
        "  for j in range(0,trains_no-i-1):\n",
        "    if trains[j][0] > trains[j+1][0]:\n",
        "      trains[j],trains[j+1] = trains[j+1],trains[j]\n",
        "\n",
        "for x in range(len(trains)):\n",
        "  for i in range(len(trains)-1):\n",
        "    if trains[i][0] == trains[i+1][0]:\n",
        "      if int(trains[i][-1][0:2]) < int(trains[i+1][-1][0:2]):\n",
        "        trains[i] , trains[i+1] = trains[i+1] , trains[i]\n",
        "\n",
        "for arr in trains:\n",
        "  print(f'{arr[0]} will departure for {arr[-3]} at {arr[-1]}', file = output_file)\n",
        "\n",
        "output_file.close()"
      ],
      "metadata": {
        "id": "N04haWMuJozQ"
      },
      "execution_count": null,
      "outputs": []
    }
  ]
}