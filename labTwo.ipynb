{
  "nbformat": 4,
  "nbformat_minor": 0,
  "metadata": {
    "colab": {
      "provenance": [],
      "authorship_tag": "ABX9TyOk5mAIEvRL05W1IjvZIcbd",
      "include_colab_link": true
    },
    "kernelspec": {
      "name": "python3",
      "display_name": "Python 3"
    },
    "language_info": {
      "name": "python"
    }
  },
  "cells": [
    {
      "cell_type": "markdown",
      "metadata": {
        "id": "view-in-github",
        "colab_type": "text"
      },
      "source": [
        "<a href=\"https://colab.research.google.com/github/ahnafwarith/Data-structures-and-algorithms-one/blob/main/labTwo.ipynb\" target=\"_parent\"><img src=\"https://colab.research.google.com/assets/colab-badge.svg\" alt=\"Open In Colab\"/></a>"
      ]
    },
    {
      "cell_type": "markdown",
      "source": [
        "Implemented a 2D electronic billboard using a circular 2D array. The billboard has a dimension of 2 by 10. That is, it can show two rows of text and at a time can display 10 characters in each row. Interestingly, the text on the top row slides from right to left, and the text on the bottom row slides from left to right."
      ],
      "metadata": {
        "id": "LAPxC3vYkzIk"
      }
    },
    {
      "cell_type": "code",
      "source": [
        "def forwardIteration(cir,start,size):\n",
        "  k = start\n",
        "  for i in range(size):\n",
        "    print(cir[k], end=\" \")\n",
        "    k = (k+1) % len(cir)\n",
        "  \n",
        "def backwardIteration(cir,start,size):\n",
        "  k = (start + size - 1) % len(cir)\n",
        "  for i in range(size):\n",
        "    print(cir[k], end=\" \")\n",
        "    k = (k -1) % len(cir)"
      ],
      "metadata": {
        "id": "mPe1hLPT_pW4"
      },
      "execution_count": 1,
      "outputs": []
    },
    {
      "cell_type": "code",
      "execution_count": null,
      "metadata": {
        "colab": {
          "base_uri": "https://localhost:8080/"
        },
        "id": "o6YaOQOrOIn_",
        "outputId": "1172bbe6-082e-4440-c2f0-fe0145a3ab1a"
      },
      "outputs": [
        {
          "output_type": "stream",
          "name": "stdout",
          "text": [
            "Press any key and enter to continue\n",
            "Top Board Start character R\n",
            "Top Board Start index 2\n",
            "Bottom Board Start character L\n",
            "Bottom Board Start index 5\n"
          ]
        }
      ],
      "source": [
        "def electronicBillboard(inp1,inp2):\n",
        "  \n",
        "  # Checking if input is valid\n",
        "  if len(inp1) > 10 or len(inp2) > 10:\n",
        "    print(\"Invalid Input Size\")\n",
        "  \n",
        "  # Continuing with valid input\n",
        "  else:\n",
        "    mulArr = [[\"\"]*len(inp1),[\"\"]*len(inp2)]\n",
        "    \n",
        "    capTop = \"\"\n",
        "    capBot = \"\"\n",
        "    count1 = 0\n",
        "    count2 = 0\n",
        "\n",
        "    # Finding top capital and it's index\n",
        "    for cap in inp1:\n",
        "      if ord(cap) in range(65,91):\n",
        "        capTop = cap\n",
        "        indexTop = count1\n",
        "      count1 += 1\n",
        "\n",
        "    # Finding Bottom capital and it's index\n",
        "    for cap in inp2:\n",
        "      if ord(cap) in range(65,91):\n",
        "        capBot = cap\n",
        "        indexBot = count2\n",
        "      count2 += 1\n",
        "    \n",
        "    print(\"Press any key and enter to continue\")\n",
        "    print(f\"Top Board Start character {capTop}\")\n",
        "    print(f\"Top Board Start index {indexTop}\")\n",
        "    print(f\"Bottom Board Start character {capBot}\")\n",
        "    print(f\"Bottom Board Start index {indexBot}\")\n",
        "    \n",
        "    # Populating 2D array\n",
        "    for i in range(len(inp1)):\n",
        "      mulArr[0][i] = inp1[i]\n",
        "    for i in range(len(inp2)):\n",
        "      mulArr[1][i] = inp2[i]\n",
        "\n",
        "    # Rotation\n",
        "    flag = True\n",
        "    while flag == True:\n",
        "      inputV = input('')\n",
        "      if (inputV == 'q' or inputV == 'Q'):\n",
        "        flag = False\n",
        "      print('Press any key to continue')\n",
        "      backwardIteration(mulArr[0],indexTop+1,len(mulArr[0]))\n",
        "      print(\"\")\n",
        "      forwardIteration(mulArr[1],indexBot,len(mulArr[1]))\n",
        "      indexTop -= 1\n",
        "      indexBot += 1\n",
        "\n",
        "electronicBillboard('giRtfel2th','rightLeft2')"
      ]
    }
  ]
}