{
  "nbformat": 4,
  "nbformat_minor": 0,
  "metadata": {
    "colab": {
      "provenance": [],
      "include_colab_link": true
    },
    "kernelspec": {
      "name": "python3",
      "display_name": "Python 3"
    },
    "language_info": {
      "name": "python"
    }
  },
  "cells": [
    {
      "cell_type": "markdown",
      "metadata": {
        "id": "view-in-github",
        "colab_type": "text"
      },
      "source": [
        "<a href=\"https://colab.research.google.com/github/ahnafwarith/Data-structures-and-algorithms-one/blob/main/labOne_(I).ipynb\" target=\"_parent\"><img src=\"https://colab.research.google.com/assets/colab-badge.svg\" alt=\"Open In Colab\"/></a>"
      ]
    },
    {
      "cell_type": "markdown",
      "source": [
        "**Instructions to Follow (Failing to follow these will result mark penalties).**\n",
        "\n",
        "\n",
        "1.   You can not use any built-in function except len()\n",
        "2.   You can not use any other python collections except list (e.g: tuptle, dictionaries etc.)\n",
        "3. If you need to initialize a new array using python list, you must mention the fixed size during initialization. There might be two approach. However, initializing new array in this lab is not mandatory.\n",
        "\n",
        "  i. arr = [None] * 10 #Initializing an array length 10 with values None.\n",
        "\n",
        "  ii. arr = [10, 20, 30, 40] #Initializing an array length 4 with the values.\n",
        "\n",
        "\n",
        "\n",
        "\n"
      ],
      "metadata": {
        "id": "lJl5kEU9s6VF"
      }
    },
    {
      "cell_type": "code",
      "execution_count": 1,
      "metadata": {
        "id": "nAE3YxgdLMa1",
        "colab": {
          "base_uri": "https://localhost:8080/"
        },
        "outputId": "18656bb9-5cd5-4c9a-f6ac-71c97c88db89"
      },
      "outputs": [
        {
          "output_type": "stream",
          "name": "stdout",
          "text": [
            "Looking in indexes: https://pypi.org/simple, https://us-python.pkg.dev/colab-wheels/public/simple/\n",
            "Collecting fhm-unittest\n",
            "  Downloading fhm_unittest-1.0.0-py3-none-any.whl (2.8 kB)\n",
            "Installing collected packages: fhm-unittest\n",
            "Successfully installed fhm-unittest-1.0.0\n",
            "Looking in indexes: https://pypi.org/simple, https://us-python.pkg.dev/colab-wheels/public/simple/\n",
            "Collecting fuzzywuzzy\n",
            "  Downloading fuzzywuzzy-0.18.0-py2.py3-none-any.whl (18 kB)\n",
            "Installing collected packages: fuzzywuzzy\n",
            "Successfully installed fuzzywuzzy-0.18.0\n"
          ]
        }
      ],
      "source": [
        "# You must run this cell to install dependency\n",
        "! pip3 install fhm-unittest\n",
        "! pip3 install fuzzywuzzy\n",
        "import fhm_unittest as unittest"
      ]
    },
    {
      "cell_type": "code",
      "source": [
        "# Complete the functions defined in this cell\n",
        "# Test 01: Shift Left k cell\n",
        "def shift_left(source, k):\n",
        "  i = 0\n",
        "  for shifts in range(k):\n",
        "    i = 0\n",
        "    while i < len(source)-1:\n",
        "      source[i] = source[i+1]\n",
        "      i = i + 1\n",
        "    source[i] = 0\n",
        "  return source\n",
        "\n",
        "\n",
        "# Test 02: Rotate Left k cell\n",
        "def rotate_left(source, k):\n",
        "  i = 0\n",
        "  for shifts in range(k):\n",
        "    i = 0\n",
        "    temp = source[i]\n",
        "    while i < len(source)-1:\n",
        "      source[i] = source[i+1]\n",
        "      i = i + 1\n",
        "    source[i] = temp\n",
        "  return source\n",
        "\n",
        "\n",
        "# Test 03: Shift Right k cell\n",
        "def shift_right(source, k):\n",
        "  i = 0\n",
        "  for shifts in range(k):\n",
        "    i = len(source) - 1\n",
        "    while i != 0:\n",
        "      source[i] = source[i-1]\n",
        "      i = i - 1\n",
        "    source[i] = 0\n",
        "  return source\n",
        "\n",
        "\n",
        "# Test 04: Rotate Right k cell\n",
        "def rotate_right(source, k):\n",
        "  i = 0\n",
        "  for shifts in range(k):\n",
        "    i = len(source) - 1\n",
        "    temp = source[i]\n",
        "    while i != 0:\n",
        "      source[i] = source[i-1]\n",
        "      i = i - 1\n",
        "    source[i] = temp\n",
        "  return source\n",
        "\n",
        "\n",
        "# Test 05: Remove an element from an array\n",
        "def remove(source, idx):\n",
        "  for i in range(idx,len(source)-1):\n",
        "    source[i] = source[i+1]\n",
        "  source[len(source)-1] = 0\n",
        "  return source\n",
        "\n",
        "\n",
        "# Test 06: Remove all occurrences of a particular element from an array\n",
        "def remove_all(source, element):\n",
        "  for i in range(len(source)):\n",
        "    if source[i] == element:\n",
        "      source[i] = 0\n",
        "  for j in range(len(source)-1):\n",
        "    for i in range(len(source)-1):\n",
        "      if source[i] == 0:\n",
        "        temp = source[i]\n",
        "        source[i] = source[i+1]\n",
        "        source[i+1] = temp\n",
        "  return source\n",
        "\n",
        "\n",
        "# Test 07: Splitting an Array\n",
        "def split_array(a):\n",
        "  for i in range(len(a)-1):\n",
        "    sumLeft=0\n",
        "    sumRight=0\n",
        "    for j in range(len(a)):\n",
        "      if j <= i: sumLeft += a[j]\n",
        "      else: sumRight += a[j]\n",
        "    if sumLeft == sumRight: return True\n",
        "  return False \n",
        "\n",
        "\n",
        "# Test 08: Max Bunch Count\n",
        "def max_bunch(a):\n",
        "  # TO DO\n",
        "  return None"
      ],
      "metadata": {
        "id": "tnfvwKtmypPi",
        "colab": {
          "base_uri": "https://localhost:8080/"
        },
        "outputId": "124558f8-2093-46ec-9b19-14e89296d5d9"
      },
      "execution_count": 34,
      "outputs": [
        {
          "output_type": "stream",
          "name": "stdout",
          "text": [
            "[10, 30, 50, 0, 0, 0, 0, 0, 0, 0, 0, 0, 0, 0, 0, 0, 0, 0, 0, 0, 0, 0, 0, 0, 0, 0, 0, 0, 0, 0]\n"
          ]
        }
      ]
    },
    {
      "cell_type": "code",
      "source": [
        "# This cell is the driver code\n",
        "# Run this cell after completion of above function.\n",
        "# You will see the status Accepted after completion if your code is correct.\n",
        "# If your function is wrong you will see wrong[correction percentage]\n",
        "# This is call unit testing if you are wondering the checking approach\n",
        "# No need to write or change any code here\n",
        "\n",
        "print(\"///  Test 01: Shift Left k cell  ///\")\n",
        "source = [10,20,30,40,50,60]\n",
        "returned_value = shift_left(source, 3) # This should return [40, 50, 60, 0, 0, 0]\n",
        "unittest.output_test(returned_value, [40, 50, 60, 0, 0, 0])\n",
        "\n",
        "\n",
        "print(\"///  Test 02: Rotate Left k cell  ///\")\n",
        "source = [10,20,30,40,50,60]\n",
        "returned_value = rotate_left(source, 3) # This should return [40, 50, 60, 10, 20, 30]\n",
        "unittest.output_test(returned_value, [40, 50, 60, 10, 20, 30])\n",
        "\n",
        "\n",
        "print(\"///  Test 03: Shift Right k cell  ///\")\n",
        "source = [10,20,30,40,50,60]\n",
        "returned_value = shift_right(source, 3) # This should return [0, 0, 0, 10, 20, 30]\n",
        "unittest.output_test(returned_value, [0, 0, 0, 10, 20, 30])\n",
        "\n",
        "\n",
        "print(\"///  Test 04: Rotate Right k cell  ///\")\n",
        "source = [10,20,30,40,50,60]\n",
        "returned_value = rotate_right(source, 3) # This should return [40, 50, 60, 10, 20, 30]\n",
        "unittest.output_test(returned_value, [40, 50, 60, 10, 20, 30])\n",
        "\n",
        "\n",
        "print(\"///  Test 05: Remove an element from an array  ///\")\n",
        "source = [10,20,30,40,50,0,0]\n",
        "returned_value = remove(source, 2) # This should return [10, 20, 40, 50, 0, 0, 0]\n",
        "unittest.output_test(returned_value, [10, 20, 40, 50, 0, 0, 0])\n",
        "\n",
        "\n",
        "print(\"///  Test 06: Remove all occurrences of a particular element from an array  ///\")\n",
        "source = [10,2,30,2,50,2,2,0,0]\n",
        "returned_value = remove_all(source, 2) # This should return [10, 30, 50, 0, 0, 0, 0, 0, 0]\n",
        "unittest.output_test(returned_value, [10, 30, 50, 0, 0, 0, 0, 0, 0])\n",
        "\n",
        "\n",
        "print(\"///  Test 07: Splitting an Array  ///\")\n",
        "test_1 = [1, 1, 1, 2, 1] # Here splitting is possible as summation of [1, 1, 1] = summation of [2,1]\n",
        "returned_value = split_array(test_1) # This should return True\n",
        "test_2 = [2, 1, 1, 2, 1] # Here splitting is not possible\n",
        "returned_value = split_array(test_2) # This should return False\n",
        "test_3 = [10, 3, 1, 2, 10] # Here splitting is possible as summation of [10, 3] = summation of [1,2,10]\n",
        "returned_value = split_array(test_3) # This should return True\n",
        "unittest.output_test(split_array(test_1), True)\n",
        "unittest.output_test(split_array(test_2), False)\n",
        "unittest.output_test(split_array(test_3), True)\n",
        "\n",
        "\n",
        "print(\"///  Test 08: Max Bunch Count  ///\")\n",
        "returned_value = max_bunch([1, 2, 2, 3, 4, 4, 4]) # This should return 3\n",
        "unittest.output_test(returned_value, 3)\n",
        "returned_value = max_bunch([1, 1, 2, 2, 1, 1, 1, 1]) # This should return 4\n",
        "unittest.output_test(returned_value, 4)\n"
      ],
      "metadata": {
        "id": "mrxIQ5rBhzPj",
        "colab": {
          "base_uri": "https://localhost:8080/"
        },
        "outputId": "9d80d408-7674-4767-8213-81409bd61a82"
      },
      "execution_count": 32,
      "outputs": [
        {
          "output_type": "stream",
          "name": "stdout",
          "text": [
            "///  Test 01: Shift Left k cell  ///\n",
            "Accepted\n",
            "///  Test 02: Rotate Left k cell  ///\n",
            "Accepted\n",
            "///  Test 03: Shift Right k cell  ///\n",
            "Accepted\n",
            "///  Test 04: Rotate Right k cell  ///\n",
            "Accepted\n",
            "///  Test 05: Remove an element from an array  ///\n",
            "Accepted\n",
            "///  Test 06: Remove all occurrences of a particular element from an array  ///\n",
            "Accepted\n",
            "///  Test 07: Splitting an Array  ///\n",
            "Accepted\n",
            "Accepted\n",
            "Accepted\n",
            "///  Test 08: Max Bunch Count  ///\n",
            "Wrong Answer [0%]\n",
            "Wrong Answer [0%]\n"
          ]
        }
      ]
    }
  ]
}