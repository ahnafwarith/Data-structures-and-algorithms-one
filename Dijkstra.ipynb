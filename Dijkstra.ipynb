{
  "nbformat": 4,
  "nbformat_minor": 0,
  "metadata": {
    "colab": {
      "provenance": [],
      "authorship_tag": "ABX9TyN13z1IyBwFmRB/HNqsIcb2",
      "include_colab_link": true
    },
    "kernelspec": {
      "name": "python3",
      "display_name": "Python 3"
    },
    "language_info": {
      "name": "python"
    }
  },
  "cells": [
    {
      "cell_type": "markdown",
      "metadata": {
        "id": "view-in-github",
        "colab_type": "text"
      },
      "source": [
        "<a href=\"https://colab.research.google.com/github/ahnafwarith/Data-structures-and-algorithms-one/blob/main/Dijkstra.ipynb\" target=\"_parent\"><img src=\"https://colab.research.google.com/assets/colab-badge.svg\" alt=\"Open In Colab\"/></a>"
      ]
    },
    {
      "cell_type": "code",
      "source": [
        "inp = open('/content/input.txt','r')\n",
        "out = open('/content/output.txt','w')\n",
        "import heapq\n",
        "\n",
        "# generating graph\n",
        "v , e = inp.readline().split()\n",
        "graph = {}\n",
        "for i in range(int(v)+1):\n",
        "  graph[i] = []\n",
        "for i in range(int(e)):\n",
        "  u,v,w = list(map(int,inp.readline().split()))\n",
        "  graph[u].append((w,v))\n",
        "\n",
        "p = int(inp.readline())\n",
        "dijkstra(graph,p)\n",
        "\n",
        "# djikstra\n",
        "def dijkstra(graph,point):\n",
        "  dis = [float('inf')]*(len(graph))\n",
        "  dis[point] = 0\n",
        "  q = []\n",
        "  heapq.heappush(q,(0,point))\n",
        "  i = 1\n",
        "  while q:\n",
        "    w , u = heapq.heappop(q)\n",
        "    if w > dis[u]:\n",
        "      continue\n",
        "    for d , v in graph[u]:\n",
        "      if w + d < dis[v]:\n",
        "        dis[v] = w + d\n",
        "        heapq.heappush(q,(d,v))\n",
        "  print(dis[1:])"
      ],
      "metadata": {
        "colab": {
          "base_uri": "https://localhost:8080/"
        },
        "id": "L61worFCuI0K",
        "outputId": "60893adc-5547-4416-918e-6d3dcacd0739"
      },
      "execution_count": 64,
      "outputs": [
        {
          "output_type": "stream",
          "name": "stdout",
          "text": [
            "[0, 5, 4, 2, 9]\n"
          ]
        }
      ]
    }
  ]
}